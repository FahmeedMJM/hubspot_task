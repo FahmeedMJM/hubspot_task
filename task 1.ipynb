{
  "nbformat": 4,
  "nbformat_minor": 0,
  "metadata": {
    "colab": {
      "provenance": [],
      "authorship_tag": "ABX9TyPca11kX13+OljXbg3azfP4",
      "include_colab_link": true
    },
    "kernelspec": {
      "name": "python3",
      "display_name": "Python 3"
    },
    "language_info": {
      "name": "python"
    }
  },
  "cells": [
    {
      "cell_type": "markdown",
      "metadata": {
        "id": "view-in-github",
        "colab_type": "text"
      },
      "source": [
        "<a href=\"https://colab.research.google.com/github/FahmeedMJM/hubspot_task/blob/main/task%201.ipynb\" target=\"_parent\"><img src=\"https://colab.research.google.com/assets/colab-badge.svg\" alt=\"Open In Colab\"/></a>"
      ]
    },
    {
      "cell_type": "markdown",
      "source": [
        "**Machine Learning Model Training and Evaluation**\n"
      ],
      "metadata": {
        "id": "JS62RQxtnskt"
      }
    },
    {
      "cell_type": "markdown",
      "source": [
        "**Introduction**\n",
        "\n",
        "\n",
        "The objective of this project is to develop machine learning models to predict the target variable (Y1) using a provided dataset. The target variable (Y1) is influenced by nine factors (X1, X2, X3, X4, X5, X6, X7, X8, and X9). This report outlines the process of data preprocessing, training, and evaluating the performance of two machine learning models: Logistic Regression and Random Forest Classification. Through these steps, we aim to identify the most effective model for accurate prediction of the target variable.\n",
        "\n"
      ],
      "metadata": {
        "id": "DIGYsaueoKX0"
      }
    },
    {
      "cell_type": "markdown",
      "source": [
        "**Load and explore the data set**"
      ],
      "metadata": {
        "id": "uri1Wf6mpqib"
      }
    },
    {
      "cell_type": "code",
      "source": [
        "import pandas as pd\n",
        "dataset = pd.read_csv('prediction_dataset.csv')\n",
        "print(dataset)"
      ],
      "metadata": {
        "id": "SZfXDvGT3X91",
        "colab": {
          "base_uri": "https://localhost:8080/"
        },
        "outputId": "b1d85b2c-7af3-43b4-e553-8d7cb156e170"
      },
      "execution_count": null,
      "outputs": [
        {
          "output_type": "stream",
          "name": "stdout",
          "text": [
            "      X1      X2    X3   X4   X5   X6  X7   X8    X9  Y1\n",
            "0     59  28.378  0.34  204  196  132  49   92  7.70   1\n",
            "1     59  24.968     1  147  181  129  34   96  4.09   1\n",
            "2     48  31.307  0.62  155  185  127  41  139  4.50   1\n",
            "3     47  27.837  0.38  488  254  158  55  250  5.30   2\n",
            "4     55  22.662  0.49   87  175  120  44   99  6.90   1\n",
            "...   ..     ...   ...  ...  ...  ...  ..  ...   ...  ..\n",
            "6962  44  26.879  0.38   94  244  164  61  101  3.10   1\n",
            "6963  54  26.857  0.53   87  118   60  44  152  2.00   2\n",
            "6964  36  29.142   1.6  154  194  129  35   95  3.50   1\n",
            "6965  51  25.979  0.22  123  214  135  54   87  3.40   2\n",
            "6966  53  22.311   1.9  393  289  169  64  131  4.40   2\n",
            "\n",
            "[6967 rows x 10 columns]\n"
          ]
        }
      ]
    },
    {
      "cell_type": "markdown",
      "source": [
        "**Summery of the data set**"
      ],
      "metadata": {
        "id": "9VLaClxb_NFR"
      }
    },
    {
      "cell_type": "code",
      "source": [
        "print(dataset.info())\n",
        "print(dataset.describe())\n",
        "print(dataset.isnull().sum())"
      ],
      "metadata": {
        "colab": {
          "base_uri": "https://localhost:8080/"
        },
        "id": "kT3-ow8U4WJW",
        "outputId": "cc8c2c67-d7ba-4058-a633-c9877480718a"
      },
      "execution_count": null,
      "outputs": [
        {
          "output_type": "stream",
          "name": "stdout",
          "text": [
            "<class 'pandas.core.frame.DataFrame'>\n",
            "RangeIndex: 6967 entries, 0 to 6966\n",
            "Data columns (total 10 columns):\n",
            " #   Column  Non-Null Count  Dtype  \n",
            "---  ------  --------------  -----  \n",
            " 0   X1      6967 non-null   int64  \n",
            " 1   X2      6967 non-null   float64\n",
            " 2   X3      6967 non-null   object \n",
            " 3   X4      6967 non-null   int64  \n",
            " 4   X5      6967 non-null   object \n",
            " 5   X6      6967 non-null   int64  \n",
            " 6   X7      6967 non-null   int64  \n",
            " 7   X8      6967 non-null   object \n",
            " 8   X9      6967 non-null   float64\n",
            " 9   Y1      6967 non-null   int64  \n",
            "dtypes: float64(2), int64(5), object(3)\n",
            "memory usage: 544.4+ KB\n",
            "None\n",
            "                X1           X2           X4           X6           X7  \\\n",
            "count  6967.000000  6967.000000  6967.000000  6967.000000  6967.000000   \n",
            "mean     53.331563    24.755782   143.837663   123.563370    51.443663   \n",
            "std       8.715032     2.832407    90.900620    30.489776    12.437381   \n",
            "min      21.000000     0.000000    31.000000    28.000000    16.000000   \n",
            "25%      48.000000    22.976000    87.000000   103.000000    43.000000   \n",
            "50%      53.000000    24.697000   122.000000   123.000000    50.000000   \n",
            "75%      59.000000    26.435000   174.000000   143.000000    58.000000   \n",
            "max      90.000000    43.261000  2610.000000   303.000000   141.000000   \n",
            "\n",
            "                X9           Y1  \n",
            "count  6967.000000  6967.000000  \n",
            "mean      4.460765     1.440218  \n",
            "std       1.779185     0.496449  \n",
            "min       0.040000     1.000000  \n",
            "25%       3.200000     1.000000  \n",
            "50%       4.200000     1.000000  \n",
            "75%       5.400000     2.000000  \n",
            "max      16.000000     2.000000  \n",
            "X1    0\n",
            "X2    0\n",
            "X3    0\n",
            "X4    0\n",
            "X5    0\n",
            "X6    0\n",
            "X7    0\n",
            "X8    0\n",
            "X9    0\n",
            "Y1    0\n",
            "dtype: int64\n"
          ]
        }
      ]
    },
    {
      "cell_type": "markdown",
      "source": [
        "**Feature Engineering**\n",
        "\n",
        "Data type Object turned to floar 64 to continue the process"
      ],
      "metadata": {
        "id": "7kSj0vqfBdKV"
      }
    },
    {
      "cell_type": "code",
      "source": [
        "print(dataset['X3'].apply(lambda x: pd.to_numeric(x, errors='coerce')).isna().sum())\n",
        "dataset['X3'] = pd.to_numeric(dataset['X3'], errors='coerce')\n",
        "dataset['X3'] = dataset['X3'].astype(float)\n",
        "\n",
        "print(dataset['X5'].apply(lambda x: pd.to_numeric(x, errors='coerce')).isna().sum())\n",
        "dataset['X5'] = pd.to_numeric(dataset['X5'], errors='coerce')\n",
        "dataset['X5'] = dataset['X5'].astype(float)\n",
        "\n",
        "print(dataset['X8'].apply(lambda x: pd.to_numeric(x, errors='coerce')).isna().sum())\n",
        "dataset['X8'] = pd.to_numeric(dataset['X8'], errors='coerce')\n",
        "dataset['X8'] = dataset['X8'].astype(float)\n",
        "\n",
        "\n",
        "print(dataset.dtypes)\n",
        "print(dataset)\n"
      ],
      "metadata": {
        "colab": {
          "base_uri": "https://localhost:8080/"
        },
        "id": "HyVB8onOGpzc",
        "outputId": "c20345ad-382f-497d-f618-354cf95e4e88"
      },
      "execution_count": null,
      "outputs": [
        {
          "output_type": "stream",
          "name": "stdout",
          "text": [
            "58\n",
            "1\n",
            "1\n",
            "X1      int64\n",
            "X2    float64\n",
            "X3    float64\n",
            "X4      int64\n",
            "X5    float64\n",
            "X6      int64\n",
            "X7      int64\n",
            "X8    float64\n",
            "X9    float64\n",
            "Y1      int64\n",
            "dtype: object\n",
            "      X1      X2    X3   X4     X5   X6  X7     X8    X9  Y1\n",
            "0     59  28.378  0.34  204  196.0  132  49   92.0  7.70   1\n",
            "1     59  24.968  1.00  147  181.0  129  34   96.0  4.09   1\n",
            "2     48  31.307  0.62  155  185.0  127  41  139.0  4.50   1\n",
            "3     47  27.837  0.38  488  254.0  158  55  250.0  5.30   2\n",
            "4     55  22.662  0.49   87  175.0  120  44   99.0  6.90   1\n",
            "...   ..     ...   ...  ...    ...  ...  ..    ...   ...  ..\n",
            "6962  44  26.879  0.38   94  244.0  164  61  101.0  3.10   1\n",
            "6963  54  26.857  0.53   87  118.0   60  44  152.0  2.00   2\n",
            "6964  36  29.142  1.60  154  194.0  129  35   95.0  3.50   1\n",
            "6965  51  25.979  0.22  123  214.0  135  54   87.0  3.40   2\n",
            "6966  53  22.311  1.90  393  289.0  169  64  131.0  4.40   2\n",
            "\n",
            "[6967 rows x 10 columns]\n"
          ]
        }
      ]
    },
    {
      "cell_type": "markdown",
      "source": [
        "**Dropping Non values**"
      ],
      "metadata": {
        "id": "Ey_QhK45BlPa"
      }
    },
    {
      "cell_type": "code",
      "source": [
        "dataset.dropna(inplace=True)\n",
        "print(dataset)"
      ],
      "metadata": {
        "colab": {
          "base_uri": "https://localhost:8080/"
        },
        "id": "tOLHzG2l52-b",
        "outputId": "5ecc09f9-360b-4efe-a6b4-9a042045826f"
      },
      "execution_count": null,
      "outputs": [
        {
          "output_type": "stream",
          "name": "stdout",
          "text": [
            "      X1      X2    X3   X4     X5   X6  X7     X8    X9  Y1\n",
            "0     59  28.378  0.34  204  196.0  132  49   92.0  7.70   1\n",
            "1     59  24.968  1.00  147  181.0  129  34   96.0  4.09   1\n",
            "2     48  31.307  0.62  155  185.0  127  41  139.0  4.50   1\n",
            "3     47  27.837  0.38  488  254.0  158  55  250.0  5.30   2\n",
            "4     55  22.662  0.49   87  175.0  120  44   99.0  6.90   1\n",
            "...   ..     ...   ...  ...    ...  ...  ..    ...   ...  ..\n",
            "6962  44  26.879  0.38   94  244.0  164  61  101.0  3.10   1\n",
            "6963  54  26.857  0.53   87  118.0   60  44  152.0  2.00   2\n",
            "6964  36  29.142  1.60  154  194.0  129  35   95.0  3.50   1\n",
            "6965  51  25.979  0.22  123  214.0  135  54   87.0  3.40   2\n",
            "6966  53  22.311  1.90  393  289.0  169  64  131.0  4.40   2\n",
            "\n",
            "[6909 rows x 10 columns]\n"
          ]
        }
      ]
    },
    {
      "cell_type": "markdown",
      "source": [
        "**standedization**"
      ],
      "metadata": {
        "id": "AXJjcy89Br00"
      }
    },
    {
      "cell_type": "code",
      "source": [
        "from sklearn.preprocessing import StandardScaler\n",
        "scaler = StandardScaler()\n",
        "features = dataset.drop('Y1', axis=1)\n",
        "features_scaled = scaler.fit_transform(features)"
      ],
      "metadata": {
        "id": "UlCqpbss67LI"
      },
      "execution_count": null,
      "outputs": []
    },
    {
      "cell_type": "markdown",
      "source": [
        "**Splitting Dataset**"
      ],
      "metadata": {
        "id": "w52gUQUoBwbj"
      }
    },
    {
      "cell_type": "code",
      "source": [
        "from sklearn.model_selection import train_test_split\n",
        "features = ['X1', 'X2', 'X3', 'X4', 'X5', 'X6','X7', 'X8', 'X9' ]\n",
        "X = dataset[features]\n",
        "y = dataset['Y1']\n",
        "X_train, X_test, y_train, y_test = train_test_split(dataset, dataset['Y1'], test_size=0.2, random_state=42)\n",
        "\n",
        "print(\"X_train shape:\", X_train.shape)\n",
        "print(\"X_test shape:\", X_test.shape)\n",
        "print(\"y_train shape:\", y_train.shape)\n",
        "print(\"y_test shape:\", y_test.shape)\n"
      ],
      "metadata": {
        "colab": {
          "base_uri": "https://localhost:8080/"
        },
        "id": "U6qSRFSEDygF",
        "outputId": "ad075032-2b81-4978-cc82-ce8991e23d75"
      },
      "execution_count": null,
      "outputs": [
        {
          "output_type": "stream",
          "name": "stdout",
          "text": [
            "X_train shape: (5527, 10)\n",
            "X_test shape: (1382, 10)\n",
            "y_train shape: (5527,)\n",
            "y_test shape: (1382,)\n"
          ]
        }
      ]
    },
    {
      "cell_type": "markdown",
      "source": [
        "**Train the Models**"
      ],
      "metadata": {
        "id": "uceus5wdCHay"
      }
    },
    {
      "cell_type": "code",
      "source": [
        "from sklearn.linear_model import LogisticRegression\n",
        "from sklearn.ensemble import RandomForestClassifier\n",
        "\n",
        "model1 = LogisticRegression()\n",
        "model2 = RandomForestClassifier()\n",
        "\n",
        "model1.fit(X_train, y_train)\n",
        "model2.fit(X_train, y_train)\n",
        "\n"
      ],
      "metadata": {
        "colab": {
          "base_uri": "https://localhost:8080/",
          "height": 214
        },
        "id": "FwuIRQPjD494",
        "outputId": "cb1ef92c-1425-443b-9be7-3b58de9c742b"
      },
      "execution_count": null,
      "outputs": [
        {
          "output_type": "stream",
          "name": "stderr",
          "text": [
            "/usr/local/lib/python3.10/dist-packages/sklearn/linear_model/_logistic.py:458: ConvergenceWarning: lbfgs failed to converge (status=1):\n",
            "STOP: TOTAL NO. of ITERATIONS REACHED LIMIT.\n",
            "\n",
            "Increase the number of iterations (max_iter) or scale the data as shown in:\n",
            "    https://scikit-learn.org/stable/modules/preprocessing.html\n",
            "Please also refer to the documentation for alternative solver options:\n",
            "    https://scikit-learn.org/stable/modules/linear_model.html#logistic-regression\n",
            "  n_iter_i = _check_optimize_result(\n"
          ]
        },
        {
          "output_type": "execute_result",
          "data": {
            "text/plain": [
              "RandomForestClassifier()"
            ],
            "text/html": [
              "<style>#sk-container-id-1 {color: black;background-color: white;}#sk-container-id-1 pre{padding: 0;}#sk-container-id-1 div.sk-toggleable {background-color: white;}#sk-container-id-1 label.sk-toggleable__label {cursor: pointer;display: block;width: 100%;margin-bottom: 0;padding: 0.3em;box-sizing: border-box;text-align: center;}#sk-container-id-1 label.sk-toggleable__label-arrow:before {content: \"▸\";float: left;margin-right: 0.25em;color: #696969;}#sk-container-id-1 label.sk-toggleable__label-arrow:hover:before {color: black;}#sk-container-id-1 div.sk-estimator:hover label.sk-toggleable__label-arrow:before {color: black;}#sk-container-id-1 div.sk-toggleable__content {max-height: 0;max-width: 0;overflow: hidden;text-align: left;background-color: #f0f8ff;}#sk-container-id-1 div.sk-toggleable__content pre {margin: 0.2em;color: black;border-radius: 0.25em;background-color: #f0f8ff;}#sk-container-id-1 input.sk-toggleable__control:checked~div.sk-toggleable__content {max-height: 200px;max-width: 100%;overflow: auto;}#sk-container-id-1 input.sk-toggleable__control:checked~label.sk-toggleable__label-arrow:before {content: \"▾\";}#sk-container-id-1 div.sk-estimator input.sk-toggleable__control:checked~label.sk-toggleable__label {background-color: #d4ebff;}#sk-container-id-1 div.sk-label input.sk-toggleable__control:checked~label.sk-toggleable__label {background-color: #d4ebff;}#sk-container-id-1 input.sk-hidden--visually {border: 0;clip: rect(1px 1px 1px 1px);clip: rect(1px, 1px, 1px, 1px);height: 1px;margin: -1px;overflow: hidden;padding: 0;position: absolute;width: 1px;}#sk-container-id-1 div.sk-estimator {font-family: monospace;background-color: #f0f8ff;border: 1px dotted black;border-radius: 0.25em;box-sizing: border-box;margin-bottom: 0.5em;}#sk-container-id-1 div.sk-estimator:hover {background-color: #d4ebff;}#sk-container-id-1 div.sk-parallel-item::after {content: \"\";width: 100%;border-bottom: 1px solid gray;flex-grow: 1;}#sk-container-id-1 div.sk-label:hover label.sk-toggleable__label {background-color: #d4ebff;}#sk-container-id-1 div.sk-serial::before {content: \"\";position: absolute;border-left: 1px solid gray;box-sizing: border-box;top: 0;bottom: 0;left: 50%;z-index: 0;}#sk-container-id-1 div.sk-serial {display: flex;flex-direction: column;align-items: center;background-color: white;padding-right: 0.2em;padding-left: 0.2em;position: relative;}#sk-container-id-1 div.sk-item {position: relative;z-index: 1;}#sk-container-id-1 div.sk-parallel {display: flex;align-items: stretch;justify-content: center;background-color: white;position: relative;}#sk-container-id-1 div.sk-item::before, #sk-container-id-1 div.sk-parallel-item::before {content: \"\";position: absolute;border-left: 1px solid gray;box-sizing: border-box;top: 0;bottom: 0;left: 50%;z-index: -1;}#sk-container-id-1 div.sk-parallel-item {display: flex;flex-direction: column;z-index: 1;position: relative;background-color: white;}#sk-container-id-1 div.sk-parallel-item:first-child::after {align-self: flex-end;width: 50%;}#sk-container-id-1 div.sk-parallel-item:last-child::after {align-self: flex-start;width: 50%;}#sk-container-id-1 div.sk-parallel-item:only-child::after {width: 0;}#sk-container-id-1 div.sk-dashed-wrapped {border: 1px dashed gray;margin: 0 0.4em 0.5em 0.4em;box-sizing: border-box;padding-bottom: 0.4em;background-color: white;}#sk-container-id-1 div.sk-label label {font-family: monospace;font-weight: bold;display: inline-block;line-height: 1.2em;}#sk-container-id-1 div.sk-label-container {text-align: center;}#sk-container-id-1 div.sk-container {/* jupyter's `normalize.less` sets `[hidden] { display: none; }` but bootstrap.min.css set `[hidden] { display: none !important; }` so we also need the `!important` here to be able to override the default hidden behavior on the sphinx rendered scikit-learn.org. See: https://github.com/scikit-learn/scikit-learn/issues/21755 */display: inline-block !important;position: relative;}#sk-container-id-1 div.sk-text-repr-fallback {display: none;}</style><div id=\"sk-container-id-1\" class=\"sk-top-container\"><div class=\"sk-text-repr-fallback\"><pre>RandomForestClassifier()</pre><b>In a Jupyter environment, please rerun this cell to show the HTML representation or trust the notebook. <br />On GitHub, the HTML representation is unable to render, please try loading this page with nbviewer.org.</b></div><div class=\"sk-container\" hidden><div class=\"sk-item\"><div class=\"sk-estimator sk-toggleable\"><input class=\"sk-toggleable__control sk-hidden--visually\" id=\"sk-estimator-id-1\" type=\"checkbox\" checked><label for=\"sk-estimator-id-1\" class=\"sk-toggleable__label sk-toggleable__label-arrow\">RandomForestClassifier</label><div class=\"sk-toggleable__content\"><pre>RandomForestClassifier()</pre></div></div></div></div></div>"
            ]
          },
          "metadata": {},
          "execution_count": 8
        }
      ]
    },
    {
      "cell_type": "markdown",
      "source": [
        "**Checking the Accuracy**"
      ],
      "metadata": {
        "id": "Z18mvd8zCVtZ"
      }
    },
    {
      "cell_type": "code",
      "source": [
        "from sklearn.metrics import classification_report, confusion_matrix\n",
        "\n",
        "y_pred1 = model1.predict(X_test)\n",
        "y_pred2 = model2.predict(X_test)\n",
        "\n",
        "from sklearn.metrics import accuracy_score\n",
        "accuracy_lr = accuracy_score(y_test, y_pred1)\n",
        "accuracy_rf = accuracy_score(y_test, y_pred2)\n",
        "\n",
        "print(\"Accuracy of Logistic Regression:\", accuracy_lr)\n",
        "print(\"Accuracy of Random Forest Classifier:\", accuracy_rf)\n",
        "\n",
        "print(\"Logistic Regression:\\n\", classification_report(y_test, y_pred1))\n",
        "print(\"Random Forest:\\n\", classification_report(y_test, y_pred2))\n",
        "\n",
        "import matplotlib.pyplot as plt\n",
        "\n",
        "def plot_predicted_vs_actual(y_test, y_pred1):\n",
        "    plt.figure(figsize=(8, 8))\n",
        "    plt.plot(range(len(y_test)), y_test, label='Actual Values', linestyle='-', color='blue')\n",
        "    plt.plot(range(len(y_pred1)), y_pred1, label='Predicted Values', linestyle='--', color='red')\n",
        "    plt.title('Actual vs. Predicted Values')\n",
        "    plt.xlabel('Index')\n",
        "    plt.ylabel('Values')\n",
        "    plt.legend()\n",
        "    plt.grid(True)\n",
        "    plt.show()\n"
      ],
      "metadata": {
        "colab": {
          "base_uri": "https://localhost:8080/"
        },
        "id": "_W6g65YIJ4N4",
        "outputId": "f7f8e0e2-8750-4e06-ddc0-d4b9bfeffb00"
      },
      "execution_count": null,
      "outputs": [
        {
          "output_type": "stream",
          "name": "stdout",
          "text": [
            "Accuracy of Logistic Regression: 1.0\n",
            "Accuracy of Random Forest Classifier: 1.0\n",
            "Logistic Regression:\n",
            "               precision    recall  f1-score   support\n",
            "\n",
            "           1       1.00      1.00      1.00       763\n",
            "           2       1.00      1.00      1.00       619\n",
            "\n",
            "    accuracy                           1.00      1382\n",
            "   macro avg       1.00      1.00      1.00      1382\n",
            "weighted avg       1.00      1.00      1.00      1382\n",
            "\n",
            "Random Forest:\n",
            "               precision    recall  f1-score   support\n",
            "\n",
            "           1       1.00      1.00      1.00       763\n",
            "           2       1.00      1.00      1.00       619\n",
            "\n",
            "    accuracy                           1.00      1382\n",
            "   macro avg       1.00      1.00      1.00      1382\n",
            "weighted avg       1.00      1.00      1.00      1382\n",
            "\n"
          ]
        }
      ]
    },
    {
      "cell_type": "markdown",
      "source": [
        "**Graphing the prediction of two models in a confusion Matrix**"
      ],
      "metadata": {
        "id": "-bAdMu4XCb70"
      }
    },
    {
      "cell_type": "code",
      "source": [
        "import matplotlib.pyplot as plt\n",
        "import seaborn as sns\n",
        "\n",
        "cm1 = confusion_matrix(y_test, y_pred1)\n",
        "cm2 = confusion_matrix(y_test, y_pred2)\n",
        "\n",
        "plt.figure(figsize=(10, 5))\n",
        "plt.subplot(1, 2, 1)\n",
        "sns.heatmap(cm1, annot=True, fmt='d')\n",
        "plt.title('Logistic Regression Confusion Matrix')\n",
        "\n",
        "plt.subplot(1, 2, 2)\n",
        "sns.heatmap(cm2, annot=True, fmt='d')\n",
        "plt.title('Random Forest Confusion Matrix')\n",
        "\n",
        "plt.show()\n"
      ],
      "metadata": {
        "colab": {
          "base_uri": "https://localhost:8080/",
          "height": 468
        },
        "id": "t1h4EKG2J-u-",
        "outputId": "b237397f-2bb7-426b-83b2-375cfb9b1b06"
      },
      "execution_count": null,
      "outputs": [
        {
          "output_type": "display_data",
          "data": {
            "text/plain": [
              "<Figure size 1000x500 with 4 Axes>"
            ],
            "image/png": "[encoded data removed]"
          },
          "metadata": {}
        }
      ]
    },
    {
      "cell_type": "markdown",
      "source": [
        "![image.png](data:image/png;base64,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)"
      ],
      "metadata": {
        "id": "ohRDJ3gAusYp"
      }
    },
    {
      "cell_type": "markdown",
      "source": [
        "According to the above graph and details the accuracy of both models are same.the confusion matrix reveals a balanced distribution of true positives, true negatives, false positives, and false negatives, indicating consistent performance across the classes\n",
        "\n"
      ],
      "metadata": {
        "id": "UytedVYrvZit"
      }
    },
    {
      "cell_type": "markdown",
      "source": [
        "**Problems**"
      ],
      "metadata": {
        "id": "L7N-FH8bug7f"
      }
    },
    {
      "cell_type": "code",
      "source": [],
      "metadata": {
        "id": "weL3Plw-vU-r"
      },
      "execution_count": null,
      "outputs": []
    },
    {
      "cell_type": "markdown",
      "source": [
        "**Reason for selecting Logistic Regression Model and Random Forest classifiers**\n",
        "\n",
        "In our predictive modeling task, we chose Logistic Regression and Random Forest classifiers because they fit our dataset well and have useful strengths. Logistic Regression is simple and easy to understand, helping us see the relationship between features and the target variable. It also runs efficiently and works well with our balanced dataset. Random Forest handles complex patterns and avoids overfitting by using multiple decision trees. It works with different types of features without much preprocessing and shows which features are important.\n",
        "\n",
        "Other models like Support Vector Machines, K-Nearest Neighbors, and Gradient Boosting Machines were less suitable due to issues with interpretability, efficiency, or needing a lot of tuning. Neural Networks were not necessary given our dataset size and problem complexity. Therefore, Logistic Regression and Random Forest were the best choices, balancing performance, clarity, and efficiency."
      ],
      "metadata": {
        "id": "Iue-dUoZt_-d"
      }
    }
  ]
}